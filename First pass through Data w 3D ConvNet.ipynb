{
 "cells": [
  {
   "cell_type": "markdown",
   "metadata": {
    "deletable": true,
    "editable": true
   },
   "source": [
    "## Applying a 3D convolutional neural network to the data ##\n",
    "\n",
    "Welcome everyone to my coverage of the Kaggle Data Science Bowl 2017. My goal here is that anyone, even people new to kaggle, can follow along. If you are completely new to data science, I will do my best to link to tutorials and provide information on everything you need to take part.\n",
    "\n",
    "This notebook is my actual personal initial run through this data and my notes along the way. I am by no means an expert data analyst, statistician, and certainly not a doctor. This initial pass is not going to win the competition, but hopefully it can serve as a starting point or, at the very least, you can learn something new along with me.\n",
    "\n",
    "This is a \"raw\" look into the actual code I used on my first pass, there's a ton of room for improvment. If you see something that you could improve, share it with me!\n",
    "\n",
    "## Quick introduction to Kaggle ##\n",
    "\n",
    "https://www.youtube.com/embed/ulq9DjCJPDU?list=PLQVvvaa0QuDd5meH8cStO9cMi98tPT12_\n",
    "\n",
    "If you are new to kaggle, create an account, and start downloading the data. It's going to take a while. I found the torrent to download the fastest, so I'd suggest you go that route. When you create an account, head to competitions in the nav bar, choose the Data Science Bowl, then head to the \"data\" tab. You will need to accept the terms of the competition to proceed with downloading the data.\n",
    "\n",
    "\n",
    "Just in case you are new, how does all this work?\n",
    "\n",
    "In general, Kaggle competitions will come with training and testing data for you to build a model on, where both the training and testing data comes with labels so you can fit a model. Then there will be actual \"blind\" or \"out of sample\" testing data that you will actually use your model on, which will spit out an output CSV file with your predictions based on the input data. This is what you will upload to kaggle, and your score here is what you compete with. There's always a sample submission file in the dataset, so you can see how to exactly format your output predictions.\n",
    "\n",
    "In this case, the submission file should have two columns, one for the patient's id and another for the prediction of the liklihood that this patient has cancer, like:\n",
    "\n",
    "id,cancer\n",
    "01e349d34c02410e1da273add27be25c,0.5\n",
    "05a20caf6ab6df4643644c923f06a5eb,0.5\n",
    "0d12f1c627df49eb223771c28548350e,0.5\n",
    "...\n",
    "\n",
    "You can submit up to 3 entries a day, so you want to be very happy with your model, and you are at least slightly disincentivised from trying to simply fit the answer key over time. It's still possible to cheat. If you do cheat, you wont win anything, since you will have to disclose your model for any prizes.\n",
    "\n",
    "At the end, you can submit 2 final submissions (allowing you to compete with 2 models if you like).\n",
    "This current competition is a 2 stage competition, where you have to participate in both stages to win. \n",
    "\n",
    "Stage one has you competing based on a validation dataset. At the release of stage 2, the validation set answers are released and then you make predictions on a new test set that comes out at the release of this second stage.\n",
    "\n",
    "## About this specific competition ##\n",
    "\n",
    "At its core, the aim here is to take the sample data, consisting of low-dose CT scan information, and predict what the liklihood of a patient having lung cancer is. Your submission is scored based on the log loss of your predictions.\n",
    "\n",
    "The dataset is pretty large at ~140GB just in initial training data, so this can be somewhat restrictive right out of the gate. I am going to do my best to make this tutorial one that anyone can follow within the built-in Kaggle kernels\n",
    "\n",
    "## Requirements and suggestions for following along ## \n",
    "\n",
    "I will be using Python 3, and you should at least know the [basics][1] of Python 3.\n",
    "\n",
    "We will also be making use of: \n",
    "\n",
    "[Pandas for some data analysis][2]\n",
    "\n",
    "[Matplotlib for data visualization][3]\n",
    "\n",
    "You do not need to go through all of those tutorials to follow here, but, if you are confused, it might be useful to poke around those.\n",
    "For the actual dependency installs and such, I will link to them as we go.\n",
    "\n",
    "\n",
    "  [1]: https://pythonprogramming.net/introduction-to-python-programming/\n",
    "  [2]: https://pythonprogramming.net/data-analysis-python-pandas-tutorial-introduction/\n",
    "  [3]: https://pythonprogramming.net/matplotlib-intro-tutorial/\n",
    "\n",
    "## Alright, let's get started! ##"
   ]
  },
  {
   "cell_type": "code",
   "execution_count": 2,
   "metadata": {
    "ExecuteTime": {
     "end_time": "2017-03-22T09:27:52.357698",
     "start_time": "2017-03-22T09:27:52.345659"
    },
    "collapsed": false
   },
   "outputs": [
    {
     "data": {
      "application/javascript": [
       "Jupyter.keyboard_manager.command_shortcuts.add_shortcut('f5', {\n",
       "    help : 'run cell',\n",
       "    handler : function (event) {\n",
       "        IPython.notebook.execute_cell();\n",
       "        return false;\n",
       "    }}                                               \n",
       ");\n",
       "\n",
       "Jupyter.keyboard_manager.command_shortcuts.add_shortcut('ctrl-.', {\n",
       "    help : 'run cell',\n",
       "    handler : function (event) {\n",
       "        IPython.notebook.execute_cell();\n",
       "        return false;\n",
       "    }}                                               \n",
       ");\n",
       "Jupyter.keyboard_manager.edit_shortcuts.add_shortcut('f5', {\n",
       "    help : 'run cell',\n",
       "    handler : function (event) {\n",
       "        IPython.notebook.execute_cell();\n",
       "        return false;\n",
       "    }}                                               \n",
       ");\n",
       "Jupyter.keyboard_manager.edit_shortcuts.add_shortcut('ctrl-.', {\n",
       "    help : 'run cell',\n",
       "    handler : function (event) {\n",
       "        IPython.notebook.execute_cell();\n",
       "        return false;\n",
       "    }}                                                                                        \n",
       ");\n",
       "\n",
       "Jupyter.keyboard_manager.edit_shortcuts.add_shortcut('ctrl-enter', {\n",
       "    help : 'none',\n",
       "    // 防止与 Sublime hotkey Ctrl+Enter 冲突\n",
       "    handler : function (event) {\n",
       "        return false;\n",
       "    }}\n",
       ");\n",
       "\n",
       "var cell = Jupyter.notebook.get_selected_cell();\n",
       "var config = cell.config;\n",
       "var patch = {\n",
       "      CodeCell: {\n",
       "        cm_config:{indentUnit: 2}\n",
       "      }\n",
       "    }\n",
       "config.update(patch)"
      ],
      "text/plain": [
       "<IPython.core.display.Javascript object>"
      ]
     },
     "metadata": {},
     "output_type": "display_data"
    }
   ],
   "source": [
    "%%javascript\n",
    "Jupyter.keyboard_manager.command_shortcuts.add_shortcut('f5', {\n",
    "    help : 'run cell',\n",
    "    handler : function (event) {\n",
    "        IPython.notebook.execute_cell();\n",
    "        return false;\n",
    "    }}                                               \n",
    ");\n",
    "\n",
    "Jupyter.keyboard_manager.command_shortcuts.add_shortcut('ctrl-.', {\n",
    "    help : 'run cell',\n",
    "    handler : function (event) {\n",
    "        IPython.notebook.execute_cell();\n",
    "        return false;\n",
    "    }}                                               \n",
    ");\n",
    "Jupyter.keyboard_manager.edit_shortcuts.add_shortcut('f5', {\n",
    "    help : 'run cell',\n",
    "    handler : function (event) {\n",
    "        IPython.notebook.execute_cell();\n",
    "        return false;\n",
    "    }}                                               \n",
    ");\n",
    "Jupyter.keyboard_manager.edit_shortcuts.add_shortcut('ctrl-.', {\n",
    "    help : 'run cell',\n",
    "    handler : function (event) {\n",
    "        IPython.notebook.execute_cell();\n",
    "        return false;\n",
    "    }}                                                                                        \n",
    ");\n",
    "\n",
    "Jupyter.keyboard_manager.edit_shortcuts.add_shortcut('ctrl-enter', {\n",
    "    help : 'none',\n",
    "    // 防止与 Sublime hotkey Ctrl+Enter 冲突\n",
    "    handler : function (event) {\n",
    "        return false;\n",
    "    }}\n",
    ");\n",
    "\n",
    "var cell = Jupyter.notebook.get_selected_cell();\n",
    "var config = cell.config;\n",
    "var patch = {\n",
    "      CodeCell: {\n",
    "        cm_config:{indentUnit: 2}\n",
    "      }\n",
    "    }\n",
    "config.update(patch)\n"
   ]
  },
  {
   "cell_type": "code",
   "execution_count": 3,
   "metadata": {
    "ExecuteTime": {
     "end_time": "2017-03-22T09:27:52.386783",
     "start_time": "2017-03-22T09:27:52.361207"
    },
    "collapsed": false
   },
   "outputs": [
    {
     "data": {
      "text/html": [
       "\n",
       "<style>\n",
       "div.cell {background-color: hsl(251, 20%, 95%);}\n",
       "div.running {background-color: hsl(196, 40%, 80%);}\n",
       "div.running.selected {background-color: hsl(196, 40%, 80%);}\n",
       "</style>"
      ],
      "text/plain": [
       "<IPython.core.display.HTML object>"
      ]
     },
     "metadata": {},
     "output_type": "display_data"
    }
   ],
   "source": [
    "from IPython.core.display import display, HTML\n",
    "import random\n",
    "def random_hue(s=100, l=80):\n",
    "  return 'hsl({}, {}%, {}%)'.format(random.randint(0, 360), s, l)\n",
    "\n",
    "color1 = random_hue(s=20, l=95)\n",
    "color2 = random_hue(s=40, l=80)\n",
    "css = '''\n",
    "<style>\n",
    "div.cell {{background-color: {color1};}}\n",
    "div.running {{background-color: {color2};}}\n",
    "div.running.selected {{background-color: {color2};}}\n",
    "</style>'''.format(color1=color1, color2=color2)\n",
    "\n",
    "display(HTML(css))"
   ]
  },
  {
   "cell_type": "markdown",
   "metadata": {
    "deletable": true,
    "editable": true
   },
   "source": [
    "# Section 1: Handling Data #\n",
    "\n",
    "Assuming you've downloaded the data, what exactly are we working with here? The data consists of many 2D \"slices,\" which, when combined, produce a 3-dimensional rendering of whatever was scanned. In this case, that's the chest cavity of the patient. We've got CT scans of about 1500 patients, and then we've got another file that contains the labels for this data.\n",
    "\n",
    "There are numerous ways that we could go about creating a classifier. Being a realistic data science problem, we actually don't really know what the best path is going to be. That's why this is a competition. Thus, we have to begin by simply trying things and seeing what happens!\n",
    "\n",
    "I have a few theories about what might work, but my first interest was to try a 3D Convolutional Neural Network. I've never had data to try one on before, so I was excited to try my hand at it!\n",
    "\n",
    "Before we can feed the data through any model, however, we need to at least understand the data we're working with. We know the scans are in this \"dicom\" format, but what is that? If you're like me, you have no idea what that is, or how it will look in Python! You can [learn more about DICOM from Wikipedia][1] if you like, but our main focus is what this will actually be in Python terms.\n",
    "\n",
    "Luckily for us, there already exists a Python package for reading dicom files: [Pydicom][2].\n",
    "\n",
    "Do a *pip install pydicom* and *pip install pandas* and let's see what we've got!\n",
    "\n",
    "https://www.youtube.com/embed/KlffppN47lc?list=PLQVvvaa0QuDd5meH8cStO9cMi98tPT12_\n",
    "\n",
    "  [1]: https://en.wikipedia.org/wiki/DICOM\n",
    "  [2]: https://pypi.python.org/pypi/pydicom"
   ]
  },
  {
   "cell_type": "code",
   "execution_count": 4,
   "metadata": {
    "ExecuteTime": {
     "end_time": "2017-03-22T09:27:53.511453",
     "start_time": "2017-03-22T09:27:52.416871"
    },
    "collapsed": false,
    "deletable": true,
    "editable": true
   },
   "outputs": [
    {
     "data": {
      "text/html": [
       "<div>\n",
       "<table border=\"1\" class=\"dataframe\">\n",
       "  <thead>\n",
       "    <tr style=\"text-align: right;\">\n",
       "      <th></th>\n",
       "      <th>cancer</th>\n",
       "    </tr>\n",
       "    <tr>\n",
       "      <th>id</th>\n",
       "      <th></th>\n",
       "    </tr>\n",
       "  </thead>\n",
       "  <tbody>\n",
       "    <tr>\n",
       "      <th>0015ceb851d7251b8f399e39779d1e7d</th>\n",
       "      <td>1</td>\n",
       "    </tr>\n",
       "    <tr>\n",
       "      <th>0030a160d58723ff36d73f41b170ec21</th>\n",
       "      <td>0</td>\n",
       "    </tr>\n",
       "    <tr>\n",
       "      <th>003f41c78e6acfa92430a057ac0b306e</th>\n",
       "      <td>0</td>\n",
       "    </tr>\n",
       "    <tr>\n",
       "      <th>006b96310a37b36cccb2ab48d10b49a3</th>\n",
       "      <td>1</td>\n",
       "    </tr>\n",
       "    <tr>\n",
       "      <th>008464bb8521d09a42985dd8add3d0d2</th>\n",
       "      <td>1</td>\n",
       "    </tr>\n",
       "  </tbody>\n",
       "</table>\n",
       "</div>"
      ],
      "text/plain": [
       "                                  cancer\n",
       "id                                      \n",
       "0015ceb851d7251b8f399e39779d1e7d       1\n",
       "0030a160d58723ff36d73f41b170ec21       0\n",
       "003f41c78e6acfa92430a057ac0b306e       0\n",
       "006b96310a37b36cccb2ab48d10b49a3       1\n",
       "008464bb8521d09a42985dd8add3d0d2       1"
      ]
     },
     "execution_count": 4,
     "metadata": {},
     "output_type": "execute_result"
    }
   ],
   "source": [
    "import dicom # for reading dicom files\n",
    "import os # for doing directory operations \n",
    "import pandas as pd # for some simple data analysis (right now, just to load in the labels data and quickly reference it)\n",
    "\n",
    "# Change this to wherever you are storing your data:\n",
    "# IF YOU ARE FOLLOWING ON KAGGLE, YOU CAN ONLY PLAY WITH THE SAMPLE DATA, WHICH IS MUCH SMALLER\n",
    "\n",
    "data_dir = 'ct_sample_images/'\n",
    "patients = os.listdir(data_dir)\n",
    "labels_df = pd.read_csv('stage1_labels.csv', index_col=0)\n",
    "\n",
    "labels_df.head()\n",
    "# labels_df.shape"
   ]
  },
  {
   "cell_type": "markdown",
   "metadata": {
    "deletable": true,
    "editable": true
   },
   "source": [
    "At this point, we've got the list of patients by their IDs, and their associated labels stored in a dataframe. Now, we can begin to iterate through the patients and gather their respective data. We're almost certainly going to need to do some preprocessing of this data, but we'll see."
   ]
  },
  {
   "cell_type": "code",
   "execution_count": 5,
   "metadata": {
    "ExecuteTime": {
     "end_time": "2017-03-22T09:27:54.212280",
     "start_time": "2017-03-22T09:27:53.516468"
    },
    "collapsed": false,
    "deletable": true,
    "editable": true
   },
   "outputs": [
    {
     "name": "stdout",
     "output_type": "stream",
     "text": [
      "134 0\n",
      "(0008, 0005) Specific Character Set              CS: 'ISO_IR 100'\n",
      "(0008, 0016) SOP Class UID                       UI: CT Image Storage\n",
      "(0008, 0018) SOP Instance UID                    UI: 1.2.840.113654.2.55.247817952625791837963403492891187883824\n",
      "(0008, 0060) Modality                            CS: 'CT'\n",
      "(0008, 103e) Series Description                  LO: 'Axial'\n",
      "(0010, 0010) Patient's Name                      PN: '00cba091fa4ad62cc3200a657aeb957e'\n",
      "(0010, 0020) Patient ID                          LO: '00cba091fa4ad62cc3200a657aeb957e'\n",
      "(0010, 0030) Patient's Birth Date                DA: '19000101'\n",
      "(0018, 0060) KVP                                 DS: ''\n",
      "(0020, 000d) Study Instance UID                  UI: 2.25.86208730140539712382771890501772734277950692397709007305473\n",
      "(0020, 000e) Series Instance UID                 UI: 2.25.11575877329635228925808596800269974740893519451784626046614\n",
      "(0020, 0011) Series Number                       IS: '3'\n",
      "(0020, 0012) Acquisition Number                  IS: '1'\n",
      "(0020, 0013) Instance Number                     IS: '134'\n",
      "(0020, 0020) Patient Orientation                 CS: ''\n",
      "(0020, 0032) Image Position (Patient)            DS: ['-145.500000', '-158.199997', '-356.200012']\n",
      "(0020, 0037) Image Orientation (Patient)         DS: ['1.000000', '0.000000', '0.000000', '0.000000', '1.000000', '0.000000']\n",
      "(0020, 0052) Frame of Reference UID              UI: 2.25.83033509634441686385652073462983801840121916678417719669650\n",
      "(0020, 1040) Position Reference Indicator        LO: 'SN'\n",
      "(0020, 1041) Slice Location                      DS: '-356.200012'\n",
      "(0028, 0002) Samples per Pixel                   US: 1\n",
      "(0028, 0004) Photometric Interpretation          CS: 'MONOCHROME2'\n",
      "(0028, 0010) Rows                                US: 512\n",
      "(0028, 0011) Columns                             US: 512\n",
      "(0028, 0030) Pixel Spacing                       DS: ['0.597656', '0.597656']\n",
      "(0028, 0100) Bits Allocated                      US: 16\n",
      "(0028, 0101) Bits Stored                         US: 16\n",
      "(0028, 0102) High Bit                            US: 15\n",
      "(0028, 0103) Pixel Representation                US: 1\n",
      "(0028, 0120) Pixel Padding Value                 US: 63536\n",
      "(0028, 1050) Window Center                       DS: '40'\n",
      "(0028, 1051) Window Width                        DS: '400'\n",
      "(0028, 1052) Rescale Intercept                   DS: '-1024'\n",
      "(0028, 1053) Rescale Slope                       DS: '1'\n",
      "(7fe0, 0010) Pixel Data                          OW: Array of 524288 bytes\n"
     ]
    }
   ],
   "source": [
    "for patient in patients[:1]:\n",
    "    label = labels_df.get_value(patient, 'cancer')\n",
    "    path = data_dir + patient\n",
    "    \n",
    "    # a couple great 1-liners from: https://www.kaggle.com/gzuidhof/data-science-bowl-2017/full-preprocessing-tutorial\n",
    "    slices = [dicom.read_file(path + '/' + s) for s in os.listdir(path)]\n",
    "    slices.sort(key = lambda x: int(x.ImagePositionPatient[2]))\n",
    "    print(len(slices),label)\n",
    "    print(slices[0])"
   ]
  },
  {
   "cell_type": "markdown",
   "metadata": {
    "deletable": true,
    "editable": true
   },
   "source": [
    "Above, we iterate through each patient, we grab their label, we get the full path to that specific patient (inside THAT path contains ~200ish scans which we also iterate over, BUT also want to sort, since they wont necessarily be in proper order).\n",
    "\n",
    "Do note here that the actual scan, when loaded by dicom, is clearly not JUST some sort of array of values, instead it's got attributes. There are a few attributes here of arrays, but not all of them. We're sorting by the actual image position in the scan. Later, we could actually put these together to get a full 3D rendering of the scan. That's not in my plans here, since that's already been something covered very well, see this kernel: [https://www.kaggle.com/gzuidhof/data-science-bowl-2017/full-preprocessing-tutorial][1]\n",
    "\n",
    "One immediate thing to note here is those rows and columns...holy moly, 512 x 512! This means, our 3D rendering is a 195 x 512 x 512 right now. That's huge!\n",
    "\n",
    "Alright, so we already know that we're going to absolutely need to resize this data. Being 512 x 512, I am already expecting all this data to be the same size, but let's see what we have from other patients too:\n",
    "\n",
    "\n",
    "  [1]: https://www.kaggle.com/gzuidhof/data-science-bowl-2017/full-preprocessing-tutorial"
   ]
  },
  {
   "cell_type": "code",
   "execution_count": 6,
   "metadata": {
    "ExecuteTime": {
     "end_time": "2017-03-22T09:27:55.398083",
     "start_time": "2017-03-22T09:27:54.214290"
    },
    "collapsed": false,
    "deletable": true,
    "editable": true
   },
   "outputs": [
    {
     "name": "stdout",
     "output_type": "stream",
     "text": [
      "(512, 512) 134\n",
      "(512, 512) 128\n",
      "(512, 512) 133\n"
     ]
    }
   ],
   "source": [
    "for patient in patients[:3]:\n",
    "    label = labels_df.get_value(patient, 'cancer')\n",
    "    path = data_dir + patient\n",
    "    \n",
    "    # a couple great 1-liners from: https://www.kaggle.com/gzuidhof/data-science-bowl-2017/full-preprocessing-tutorial\n",
    "    slices = [dicom.read_file(path + '/' + s) for s in os.listdir(path)]\n",
    "    slices.sort(key = lambda x: int(x.ImagePositionPatient[2]))\n",
    "    print(slices[0].pixel_array.shape, len(slices))"
   ]
  },
  {
   "cell_type": "markdown",
   "metadata": {
    "deletable": true,
    "editable": true
   },
   "source": [
    "Alright, so above we just went ahead and grabbed the pixel_array attribute, which is what I assume to be the scan slice itself (we will confirm this soon), but immediately I am surprised by this non-uniformity of slices. This isn't quite ideal and will cause a problem later. All of our images are the same size, but the slices arent. In terms of a 3D rendering, these actually are not the same size.\n",
    "\n",
    "We've got to actually figure out a way to solve that uniformity problem, but also...these images are just WAY too big for a convolutional neural network to handle without some serious computing power.\n",
    "Thus, we already know out of the gate that we're going to need to downsample this data quite a bit, AND somehow make the depth uniform.\n",
    "\n",
    "*Welcome to datascience!*\n",
    "\n",
    "Okay, next question is...just how much data do we have here?"
   ]
  },
  {
   "cell_type": "code",
   "execution_count": 7,
   "metadata": {
    "ExecuteTime": {
     "end_time": "2017-03-22T09:27:55.407109",
     "start_time": "2017-03-22T09:27:55.400092"
    },
    "collapsed": false,
    "deletable": true,
    "editable": true
   },
   "outputs": [
    {
     "data": {
      "text/plain": [
       "20"
      ]
     },
     "execution_count": 7,
     "metadata": {},
     "output_type": "execute_result"
    }
   ],
   "source": [
    "len(patients)"
   ]
  },
  {
   "cell_type": "markdown",
   "metadata": {
    "deletable": true,
    "editable": true
   },
   "source": [
    "Oh. \n",
    "\n",
    "(1595 in real data, 20 if you're in the Kaggle sample dataset)\n",
    "\n",
    "Well, that's also going to be a challenge for the convnet to figure out, but we're going to try! Also, there are outside datasources for more lung scans. For example, you can grab data from the LUNA2016 challenge: https://luna16.grand-challenge.org/data/ for another 888 scans.\n",
    "\n",
    "Do note that, if you do wish to compete, you can only use free datasets that are available to anyone who bothers to look.\n",
    "\n",
    "I'll have us stick to just the base dataset, again mainly so anyone can poke around this code in the kernel environment.\n",
    "\n",
    "Now, let's see what an actual slice looks like. If you do not have matplotlib, do *pip install matplotlib*\n",
    "\n",
    "https://www.youtube.com/embed/MqcZYw8Tgpc?list=PLQVvvaa0QuDd5meH8cStO9cMi98tPT12_\n",
    "\n",
    "Want to learn more about Matplotlib? Check out the [Data Visualization with Python and Matplotlib tutorial][1].\n",
    "\n",
    "\n",
    "  [1]: https://pythonprogramming.net/matplotlib-intro-tutorial/"
   ]
  },
  {
   "cell_type": "code",
   "execution_count": 8,
   "metadata": {
    "ExecuteTime": {
     "end_time": "2017-03-22T09:27:56.205052",
     "start_time": "2017-03-22T09:27:55.410125"
    },
    "collapsed": false,
    "deletable": true,
    "editable": true
   },
   "outputs": [
    {
     "data": {
      "image/png": "[encoded data removed]",
      "text/plain": [
       "<matplotlib.figure.Figure at 0x2a7a38a5630>"
      ]
     },
     "metadata": {},
     "output_type": "display_data"
    }
   ],
   "source": [
    "import matplotlib.pyplot as plt\n",
    "\n",
    "for patient in patients[:1]:\n",
    "    label = labels_df.get_value(patient, 'cancer')\n",
    "    path = data_dir + patient\n",
    "    slices = [dicom.read_file(path + '/' + s) for s in os.listdir(path)]\n",
    "    slices.sort(key = lambda x: int(x.ImagePositionPatient[2]))\n",
    "    \n",
    "    #          the first slice\n",
    "    plt.imshow(slices[50].pixel_array)\n",
    "    plt.show()"
   ]
  },
  {
   "cell_type": "markdown",
   "metadata": {
    "deletable": true,
    "editable": true
   },
   "source": [
    "Now, I am not a doctor, but I'm going to claim a mini-victory and say that's our first CT scan slice.\n",
    "\n",
    "We have about 200 slices though, I'd feel more comfortable if I saw a few more. Let's look at the first 12, and resize them with opencv. If you do not have opencv, do a *pip install cv2*\n",
    "\n",
    "Want to learn more about what you can do with Open CV? Check out the [Image analysis and manipulation with OpenCV and Python tutorial][1].\n",
    "\n",
    "You will also need numpy here. You probably already have numpy if you installed pandas, but, just in case, numpy is *pip install numpy*\n",
    "\n",
    "\n",
    "  [1]: https://pythonprogramming.net/loading-images-python-opencv-tutorial/"
   ]
  },
  {
   "cell_type": "markdown",
   "metadata": {
    "deletable": true,
    "editable": true
   },
   "source": [
    "# Section 2: Processing and viewing our Data #\n",
    "\n",
    "https://www.youtube.com/embed/lqhMTkouBx0?list=PLQVvvaa0QuDd5meH8cStO9cMi98tPT12_"
   ]
  },
  {
   "cell_type": "code",
   "execution_count": 9,
   "metadata": {
    "ExecuteTime": {
     "end_time": "2017-03-22T09:27:57.528610",
     "start_time": "2017-03-22T09:27:56.207032"
    },
    "collapsed": false,
    "deletable": true,
    "editable": true
   },
   "outputs": [
    {
     "data": {
      "image/png": "[encoded data removed]",
      "text/plain": [
       "<matplotlib.figure.Figure at 0x2a7a1830be0>"
      ]
     },
     "metadata": {},
     "output_type": "display_data"
    }
   ],
   "source": [
    "import cv2\n",
    "import numpy as np\n",
    "\n",
    "IMG_PX_SIZE = 150\n",
    "\n",
    "for patient in patients[:1]:\n",
    "    label = labels_df.get_value(patient, 'cancer')\n",
    "    path = data_dir + patient\n",
    "    slices = [dicom.read_file(path + '/' + s) for s in os.listdir(path)]\n",
    "    slices.sort(key = lambda x: int(x.ImagePositionPatient[2]))\n",
    "    fig = plt.figure()\n",
    "    for num, each_slice in enumerate(slices[:12]):\n",
    "        y = fig.add_subplot(3,4,num+1)\n",
    "        new_img = cv2.resize(np.array(each_slice.pixel_array),(IMG_PX_SIZE,IMG_PX_SIZE))\n",
    "        y.imshow(new_img)\n",
    "    plt.show()"
   ]
  },
  {
   "cell_type": "markdown",
   "metadata": {
    "deletable": true,
    "editable": true
   },
   "source": [
    "Alright, so we're resizing our images from 512x512 to 150x150. 150 is still going to wind up likely being waaaaaaay to big. That's fine, we can play with that constant more later, we just want to know how to do it.\n",
    "\n",
    "Okay, so now what? I think we need to address the whole non-uniformity of depth next. To be honest, I don't know of any super smooth way of doing this, but that's fine. I can at least think of A way, and that's all we need.\n",
    "\n",
    "My thought is that, what we have is really a big list of slices. What we need is to be able to just take any list of images, whether it's got 200 scans, 150 scans, or 300 scans, and set it to be some fixed number.\n",
    "Let's say we want to have 20 scans instead. How can we do this?\n",
    "Well, first, we need something that will take our current list of scans, and chunk it into a list of lists of scans.\n",
    "\n",
    "I couldn't think of anything off the top of my head for this, so I Googled \"how to chunk a list into a list of lists.\" This is how real programming is happens.\n",
    "\n",
    "As per Ned Batchelder via Link: [http://stackoverflow.com/questions/312443/how-do-you-split-a-list-into-evenly-sized-chunks][1], we've got ourselves a nice chunker generator. Awesome!\n",
    "\n",
    "Thanks Ned!\n",
    "\n",
    "Okay, once we've got these chunks of these scans, what are we going to do? Well, we can just average them together. My theory is that a scan is a few millimeters of actual tissue at most. Thus, we can hopefully just average this slice together, and maybe we're now working with a centimeter or so. If there's a growth there, it should still show up on scan.\n",
    "\n",
    "This is just a theory, it has to be tested.\n",
    "\n",
    "As we continue through this, however, you're hopefully going to see just how many theories we come up with, and how many variables we can tweak and change to possibly get better results.\n",
    "\n",
    "\n",
    "这个是把z轴直接按照dawnsample的数量分成一段段, 每一段取平均,\n",
    "\n",
    "还是 full preprocessing tutorial 里面的做法好, 对 3D 数据整体 resampling\n",
    "\n",
    "  [1]: http://%20http://stackoverflow.com/questions/312443/how-do-you-split-a-list-into-evenly-sized-chunks"
   ]
  },
  {
   "cell_type": "code",
   "execution_count": 10,
   "metadata": {
    "ExecuteTime": {
     "end_time": "2017-03-22T09:28:03.804328",
     "start_time": "2017-03-22T09:27:57.532621"
    },
    "collapsed": false,
    "deletable": true,
    "editable": true
   },
   "outputs": [
    {
     "name": "stdout",
     "output_type": "stream",
     "text": [
      "134 20\n",
      "128 19\n",
      "133 19\n",
      "110 19\n",
      "203 19\n",
      "280 20\n",
      "123 18\n",
      "164 19\n",
      "244 19\n"
     ]
    }
   ],
   "source": [
    "import math\n",
    "\n",
    "def chunks(l, n):\n",
    "    # Credit: Ned Batchelder\n",
    "    # Link: http://stackoverflow.com/questions/312443/how-do-you-split-a-list-into-evenly-sized-chunks\n",
    "    \"\"\"Yield successive n-sized chunks from l.\"\"\"\n",
    "    for i in range(0, len(l), n):\n",
    "        yield l[i:i + n]\n",
    "\n",
    "def mean(l):\n",
    "    return sum(l) / len(l)\n",
    "\n",
    "IMG_PX_SIZE = 150\n",
    "HM_SLICES = 20\n",
    "\n",
    "data_dir = 'ct_sample_images/'\n",
    "patients = os.listdir(data_dir)\n",
    "labels_df = pd.read_csv('stage1_labels.csv', index_col=0)\n",
    "\n",
    "for patient in patients[:10]:\n",
    "    try:\n",
    "        label = labels_df.get_value(patient, 'cancer')\n",
    "        path = data_dir + patient\n",
    "        slices = [dicom.read_file(path + '/' + s) for s in os.listdir(path)]\n",
    "        slices.sort(key = lambda x: int(x.ImagePositionPatient[2]))\n",
    "        new_slices = []\n",
    "        slices = [cv2.resize(np.array(each_slice.pixel_array),(IMG_PX_SIZE,IMG_PX_SIZE)) for each_slice in slices]\n",
    "        chunk_sizes = math.ceil(len(slices) / HM_SLICES)\n",
    "        for slice_chunk in chunks(slices, chunk_sizes):\n",
    "            slice_chunk = list(map(mean, zip(*slice_chunk)))\n",
    "            new_slices.append(slice_chunk)\n",
    "\n",
    "        print(len(slices), len(new_slices))\n",
    "    except:\n",
    "        # some patients don't have labels, so we'll just pass on this for now\n",
    "        pass"
   ]
  },
  {
   "cell_type": "markdown",
   "metadata": {
    "deletable": true,
    "editable": true
   },
   "source": [
    "The struggle is real. Okay, what you're about to see you shouldn't attempt if anyone else is watching, like if you're going to show your code to the public...\n",
    "\n",
    "这一段代码太山寨了... 尤其是给凑数据的那一块..."
   ]
  },
  {
   "cell_type": "code",
   "execution_count": 11,
   "metadata": {
    "ExecuteTime": {
     "end_time": "2017-03-22T09:28:12.222520",
     "start_time": "2017-03-22T09:28:03.807337"
    },
    "collapsed": false,
    "deletable": true,
    "editable": true
   },
   "outputs": [
    {
     "name": "stdout",
     "output_type": "stream",
     "text": [
      "134 20\n",
      "128 20\n",
      "133 20\n",
      "110 20\n",
      "203 20\n",
      "'0b20184e0cd497028bdd155d9fb42dc9'\n",
      "280 20\n",
      "123 20\n",
      "164 20\n",
      "244 20\n"
     ]
    }
   ],
   "source": [
    "for patient in patients[:10]:\n",
    "    try:\n",
    "        label = labels_df.get_value(patient, 'cancer')\n",
    "        path = data_dir + patient\n",
    "        slices = [dicom.read_file(path + '/' + s) for s in os.listdir(path)]\n",
    "        slices.sort(key = lambda x: int(x.ImagePositionPatient[2]))\n",
    "        new_slices = []\n",
    "\n",
    "        slices = [cv2.resize(np.array(each_slice.pixel_array),(IMG_PX_SIZE,IMG_PX_SIZE)) for each_slice in slices]\n",
    "\n",
    "        chunk_sizes = math.ceil(len(slices) / HM_SLICES)\n",
    "\n",
    "\n",
    "        for slice_chunk in chunks(slices, chunk_sizes):\n",
    "            slice_chunk = list(map(mean, zip(*slice_chunk)))\n",
    "            new_slices.append(slice_chunk)\n",
    "\n",
    "        if len(new_slices) == HM_SLICES-1:\n",
    "            new_slices.append(new_slices[-1])\n",
    "\n",
    "        if len(new_slices) == HM_SLICES-2:\n",
    "            new_slices.append(new_slices[-1])\n",
    "            new_slices.append(new_slices[-1])\n",
    "\n",
    "        if len(new_slices) == HM_SLICES+2:\n",
    "            new_val = list(map(mean, zip(*[new_slices[HM_SLICES-1],new_slices[HM_SLICES],])))\n",
    "            del new_slices[HM_SLICES]\n",
    "            new_slices[HM_SLICES-1] = new_val\n",
    "\n",
    "        if len(new_slices) == HM_SLICES+1:\n",
    "            new_val = list(map(mean, zip(*[new_slices[HM_SLICES-1],new_slices[HM_SLICES],])))\n",
    "            del new_slices[HM_SLICES]\n",
    "            new_slices[HM_SLICES-1] = new_val\n",
    "\n",
    "        print(len(slices), len(new_slices))\n",
    "    except Exception as e:\n",
    "        # again, some patients are not labeled, \n",
    "        # but JIC we still want the error if something\n",
    "        # else is wrong with our code\n",
    "        print(str(e))"
   ]
  },
  {
   "cell_type": "markdown",
   "metadata": {
    "deletable": true,
    "editable": true
   },
   "source": [
    "Okay, the Python gods are really not happy with me for that hacky solution. If any of you would like to improve this chunking/averaging code, feel free. Really, any of this code...if you have improvements, share them! This is going to stay pretty messy. But hey, we did it! We figured out a way to make sure our 3 dimensional data can be at any resolution we want or need. Awesome!\n",
    "\n",
    "That's actually a decently large hurdle. Are we totally done? ...maybe not. One major issue is these colors and ranges of data. It's unclear to me whether or not a model would appreciate that. Even if we do a grayscale colormap in the imshow, you'll see that some scans are just darker overall than others. This might be problematic and we might need to actually normalize this dataset.\n",
    "\n",
    "I expect that, with a large enough dataset, this wouldn't be an actual issue, but, with this size of data, it might be of huge importance.\n",
    "\n",
    "In effort to not turn this notebook into an actual book, however, we're going to move forward! We can now see our new data by doing:\n",
    "\n",
    "按照 full preprocessing tutorial 里的观点, scan 都是校准到 HU 值的, 不存在明度不同的问题???"
   ]
  },
  {
   "cell_type": "code",
   "execution_count": 12,
   "metadata": {
    "ExecuteTime": {
     "end_time": "2017-03-22T09:36:01.623207",
     "start_time": "2017-03-22T09:35:58.868997"
    },
    "collapsed": false,
    "deletable": true,
    "editable": true
   },
   "outputs": [
    {
     "data": {
      "image/png": "[encoded data removed]",
      "text/plain": [
       "<matplotlib.figure.Figure at 0x2a7ab63f9b0>"
      ]
     },
     "metadata": {},
     "output_type": "display_data"
    }
   ],
   "source": [
    "for patient in patients[:1]:\n",
    "    label = labels_df.get_value(patient, 'cancer')\n",
    "    path = data_dir + patient\n",
    "    slices = [dicom.read_file(path + '/' + s) for s in os.listdir(path)]\n",
    "    slices.sort(key = lambda x: int(x.ImagePositionPatient[2]))\n",
    "    new_slices = []\n",
    "\n",
    "    slices = [cv2.resize(np.array(each_slice.pixel_array),(IMG_PX_SIZE,IMG_PX_SIZE)) for each_slice in slices]\n",
    "    \n",
    "    chunk_sizes = math.ceil(len(slices) / HM_SLICES)\n",
    "    for slice_chunk in chunks(slices, chunk_sizes):\n",
    "        slice_chunk = list(map(mean, zip(*slice_chunk)))\n",
    "        new_slices.append(slice_chunk)\n",
    "\n",
    "    if len(new_slices) == HM_SLICES-1:\n",
    "        new_slices.append(new_slices[-1])\n",
    "\n",
    "    if len(new_slices) == HM_SLICES-2:\n",
    "        new_slices.append(new_slices[-1])\n",
    "        new_slices.append(new_slices[-1])\n",
    "\n",
    "    if len(new_slices) == HM_SLICES+2:\n",
    "        new_val = list(map(mean, zip(*[new_slices[HM_SLICES-1],new_slices[HM_SLICES],])))\n",
    "        del new_slices[HM_SLICES]\n",
    "        new_slices[HM_SLICES-1] = new_val\n",
    "        \n",
    "    if len(new_slices) == HM_SLICES+1:\n",
    "        new_val = list(map(mean, zip(*[new_slices[HM_SLICES-1],new_slices[HM_SLICES],])))\n",
    "        del new_slices[HM_SLICES]\n",
    "        new_slices[HM_SLICES-1] = new_val\n",
    "    \n",
    "    fig = plt.figure()\n",
    "    for num,each_slice in enumerate(new_slices):\n",
    "        y = fig.add_subplot(4,5,num+1)\n",
    "        y.imshow(each_slice, cmap='gray')\n",
    "    plt.show()"
   ]
  },
  {
   "cell_type": "markdown",
   "metadata": {
    "deletable": true,
    "editable": true
   },
   "source": [
    "# Section 3: Preprocessing our Data #\n",
    "\n",
    "https://www.youtube.com/embed/_DAeMDMHgtY?list=PLQVvvaa0QuDd5meH8cStO9cMi98tPT12_\n",
    "\n",
    "Okay, so we know what we've got, and what we need to do with it.\n",
    "\n",
    "We have a few options at this point, we could take the code that we have already and do the processing \"online.\" By this, I mean, while training the network, we can actually just loop over our patients, resize the data, then feed it through our neural network. We actually don't have to have all of the data prepared before we go through the network.\n",
    "\n",
    "If you can preprocess all of the data into one file, and that one file doesn't exceed your available memory, then training should likely be faster, so you can more easily tweak your neural network and not be processing your data the same way over and over.\n",
    "\n",
    "In many more realistic examples in the world, however, your dataset will be so large, that you wouldn't be able to read it all into memory at once anyway, but you could still maintain one big database or something.\n",
    "\n",
    "Bottom line: There are tons of options here. Our dataset is only 1500 (even less if you are following in the Kaggle kernel) patients, and will be, for example, 20 slices of 150x150 image data if we went off the numbers we have now, but this will need to be even smaller for a typical computer most likely. \n",
    "\n",
    "Regardless, this much data wont be an issue to keep in memory or do whatever the heck we want.\n",
    "\n",
    "If at all possible, I prefer to separate out steps in any big process like this, so I am going to go ahead and pre-process the data, so our neural network code is much simpler. Also, there's no good reason to maintain a network in GPU memory while we're wasting time processing the data which can be easily done on a CPU.\n",
    "\n",
    "Now, I will just make a slight modification to all of the code up to this point, and add some new final lines to preprocess this data and save the array of arrays to a file:\n",
    "\n",
    "\n",
    "说的是提倡早做预处理, 不要训练时同时进行预处理, 同意"
   ]
  },
  {
   "cell_type": "code",
   "execution_count": 13,
   "metadata": {
    "ExecuteTime": {
     "end_time": "2017-03-22T11:53:37.900376",
     "start_time": "2017-03-22T11:52:43.181473"
    },
    "collapsed": false,
    "deletable": true,
    "editable": true
   },
   "outputs": [
    {
     "name": "stdout",
     "output_type": "stream",
     "text": [
      "0\n",
      "This is unlabeled data! or Dataset does not have attribute ImagePositionPatient\n",
      "This is unlabeled data! or Dataset does not have attribute ImagePositionPatient\n",
      "This is unlabeled data! or Dataset does not have attribute ImagePositionPatient\n"
     ]
    }
   ],
   "source": [
    "import numpy as np\n",
    "import pandas as pd\n",
    "import dicom\n",
    "import os\n",
    "import matplotlib.pyplot as plt\n",
    "import cv2\n",
    "import math\n",
    "\n",
    "IMG_SIZE_PX = 50\n",
    "SLICE_COUNT = 20\n",
    "\n",
    "def chunks(l, n):\n",
    "    # Credit: Ned Batchelder\n",
    "    # Link: http://stackoverflow.com/questions/312443/how-do-you-split-a-list-into-evenly-sized-chunks\n",
    "    \"\"\"Yield successive n-sized chunks from l.\"\"\"\n",
    "    for i in range(0, len(l), n):\n",
    "        yield l[i:i + n]\n",
    "\n",
    "\n",
    "def mean(a):\n",
    "    return sum(a) / len(a)\n",
    "\n",
    "\n",
    "def process_data(patient,labels_df,img_px_size=50, hm_slices=20, visualize=False):\n",
    "    \n",
    "    label = labels_df.get_value(patient, 'cancer')\n",
    "    path = data_dir + patient\n",
    "    slices = [dicom.read_file(path + '/' + s, force=True) for s in os.listdir(path)]\n",
    "    slices.sort(key = lambda x: int(x.ImagePositionPatient[2]))\n",
    "\n",
    "    new_slices = []\n",
    "    slices = [cv2.resize(np.array(each_slice.pixel_array),(img_px_size,img_px_size)) for each_slice in slices]\n",
    "    \n",
    "    chunk_sizes = math.ceil(len(slices) / hm_slices)\n",
    "    for slice_chunk in chunks(slices, chunk_sizes):\n",
    "        slice_chunk = list(map(mean, zip(*slice_chunk)))\n",
    "        new_slices.append(slice_chunk)\n",
    "\n",
    "    if len(new_slices) == hm_slices-1:\n",
    "        new_slices.append(new_slices[-1])\n",
    "\n",
    "    if len(new_slices) == hm_slices-2:\n",
    "        new_slices.append(new_slices[-1])\n",
    "        new_slices.append(new_slices[-1])\n",
    "\n",
    "    if len(new_slices) == hm_slices+2:\n",
    "        new_val = list(map(mean, zip(*[new_slices[hm_slices-1],new_slices[hm_slices],])))\n",
    "        del new_slices[hm_slices]\n",
    "        new_slices[hm_slices-1] = new_val\n",
    "        \n",
    "    if len(new_slices) == hm_slices+1:\n",
    "        new_val = list(map(mean, zip(*[new_slices[hm_slices-1],new_slices[hm_slices],])))\n",
    "        del new_slices[hm_slices]\n",
    "        new_slices[hm_slices-1] = new_val\n",
    "\n",
    "    if visualize:\n",
    "        fig = plt.figure()\n",
    "        for num,each_slice in enumerate(new_slices):\n",
    "            y = fig.add_subplot(4,5,num+1)\n",
    "            y.imshow(each_slice, cmap='gray')\n",
    "        plt.show()\n",
    "\n",
    "    if label == 1: label=np.array([0,1])\n",
    "    elif label == 0: label=np.array([1,0])\n",
    "        \n",
    "    return np.array(new_slices),label\n",
    "\n",
    "\n",
    "data_dir = 'ct_sample_images/'  # stage 1 for real.\n",
    "patients = os.listdir(data_dir)\n",
    "labels = pd.read_csv('stage1_labels.csv', index_col=0)\n",
    "\n",
    "much_data = []\n",
    "for num,patient in enumerate(patients):\n",
    "    if num % 100 == 0:\n",
    "        print(num)\n",
    "    try:\n",
    "        img_data,label = process_data(patient,labels,img_px_size=IMG_SIZE_PX, hm_slices=SLICE_COUNT)\n",
    "        # print(img_data.shape,label)\n",
    "        much_data.append([img_data,label])\n",
    "    except (KeyError, AttributeError) as e:\n",
    "        print('This is unlabeled data! or Dataset does not have attribute ImagePositionPatient')\n",
    "\n",
    "np.save('muchdata-{}-{}-{}.npy'.format(IMG_SIZE_PX,IMG_SIZE_PX,SLICE_COUNT), much_data)"
   ]
  },
  {
   "cell_type": "markdown",
   "metadata": {
    "deletable": true,
    "editable": true
   },
   "source": [
    "# Section 4: 3D Convolutional Neural Network #\n",
    "\n",
    "## Moment-o-truth\n",
    "\n",
    "https://www.youtube.com/embed/CPZ5ihaNfJc?list=PLQVvvaa0QuDd5meH8cStO9cMi98tPT12_\n",
    "\n",
    "Okay, we've got preprocessed, normalized, data. Now we're ready to feed it through our 3D convnet and...see what happens!\n",
    "\n",
    "Now, I am not about to stuff a neural networks tutorial into this one. If you're already familiar with neural networks and TensorFlow, great! If not, as you might guess, I have a tutorial...or tutorials... for you!\n",
    "\n",
    "To install the CPU version of TensorFlow, just do *pip install tensorflow*\n",
    "\n",
    "To install the GPU version of TensorFlow, you need to get alllll the dependencies and such.\n",
    "\n",
    "**Installation tutorials:**\n",
    "\n",
    "[Installing the GPU version of TensorFlow in Ubuntu][1]\n",
    "\n",
    "[Installing the GPU version of TensorFlow on a Windows machine][2]\n",
    "\n",
    "**Using TensorFlow and concept tutorials:**\n",
    "\n",
    "[Introduction to deep learning with neural networks][3]\n",
    "\n",
    "[Introduction to TensorFlow][4] \n",
    "\n",
    "[Intro to Convolutional Neural Networks][5]\n",
    "\n",
    "[Convolutional Neural Network in TensorFlow tutorial][6]\n",
    "\n",
    "Now, the data we have is actually 3D data, not 2D data that's covered in most convnet tutorials, including mine above. So what changes? EVERYTHING! OMG IT'S THE END OF THE WORLD AS WE KNOW IT!!\n",
    "\n",
    "It's not really all too bad. Your convolutional window/padding/strides need to change. Do note that, now, to have a bigger window, your processing penalty increases significantly as we increase in size, obviously much more than with 2D windows.\n",
    "\n",
    "Okay, let's begin.\n",
    "\n",
    "\n",
    "  [1]: https://pythonprogramming.net/how-to-cuda-gpu-tensorflow-deep-learning-tutorial/\n",
    "  [2]: https://www.youtube.com/watch?v=r7-WPbx8VuY\n",
    "  [3]: https://pythonprogramming.net/neural-networks-machine-learning-tutorial\n",
    "  [4]: https://pythonprogramming.net/tensorflow-introduction-machine-learning-tutorial/\n",
    "  [5]: https://pythonprogramming.net/convolutional-neural-network-cnn-machine-learning-tutorial/\n",
    "  [6]: https://pythonprogramming.net/cnn-tensorflow-convolutional-nerual-network-machine-learning-tutorial/"
   ]
  },
  {
   "cell_type": "code",
   "execution_count": 17,
   "metadata": {
    "ExecuteTime": {
     "end_time": "2017-03-22T13:50:55.484324",
     "start_time": "2017-03-22T13:50:55.436226"
    },
    "collapsed": true,
    "deletable": true,
    "editable": true
   },
   "outputs": [],
   "source": [
    "import tensorflow as tf\n",
    "import numpy as np\n",
    "\n",
    "IMG_SIZE_PX = 50\n",
    "SLICE_COUNT = 20\n",
    "\n",
    "n_classes = 2\n",
    "batch_size = 4\n",
    "\n",
    "x = tf.placeholder('float')\n",
    "y = tf.placeholder('float')\n",
    "\n",
    "keep_rate = 0.8"
   ]
  },
  {
   "cell_type": "code",
   "execution_count": 15,
   "metadata": {
    "ExecuteTime": {
     "end_time": "2017-03-22T12:55:36.578335",
     "start_time": "2017-03-22T12:55:36.562312"
    },
    "collapsed": true,
    "deletable": true,
    "editable": true
   },
   "outputs": [],
   "source": [
    "def conv3d(x, W):\n",
    "    return tf.nn.conv3d(x, W, strides=[1,1,1,1,1], padding='SAME')\n",
    "\n",
    "def maxpool3d(x):\n",
    "    #                        size of window         movement of window as you slide about\n",
    "    return tf.nn.max_pool3d(x, ksize=[1,2,2,2,1], strides=[1,2,2,2,1], padding='SAME')"
   ]
  },
  {
   "cell_type": "markdown",
   "metadata": {
    "deletable": true,
    "editable": true
   },
   "source": [
    "Now we're ready for the network itself:"
   ]
  },
  {
   "cell_type": "code",
   "execution_count": 16,
   "metadata": {
    "ExecuteTime": {
     "end_time": "2017-03-22T13:25:44.103840",
     "start_time": "2017-03-22T13:25:44.071770"
    },
    "collapsed": true,
    "deletable": true,
    "editable": true
   },
   "outputs": [],
   "source": [
    "def convolutional_neural_network(x):\n",
    "    #                # 5 x 5 x 5 patches, 1 channel, 32 features to compute.\n",
    "    weights = {'W_conv1':tf.Variable(tf.random_normal([3,3,3,1,32])),\n",
    "               #       5 x 5 x 5 patches, 32 channels, 64 features to compute.\n",
    "               'W_conv2':tf.Variable(tf.random_normal([3,3,3,32,64])),\n",
    "               #                                  64 features\n",
    "               'W_fc':tf.Variable(tf.random_normal([54080,1024])),\n",
    "               'out':tf.Variable(tf.random_normal([1024, n_classes]))}\n",
    "\n",
    "    biases = { 'b_conv1':tf.Variable(tf.random_normal([32])),\n",
    "               'b_conv2':tf.Variable(tf.random_normal([64])),\n",
    "               'b_fc':tf.Variable(tf.random_normal([1024])),\n",
    "               'out':tf.Variable(tf.random_normal([n_classes]))}\n",
    "\n",
    "    #                            image X      image Y        image Z\n",
    "    x = tf.reshape(x, shape=[-1, IMG_SIZE_PX, IMG_SIZE_PX, SLICE_COUNT, 1])\n",
    "\n",
    "    conv1 = tf.nn.relu(conv3d(x, weights['W_conv1']) + biases['b_conv1'])\n",
    "    conv1 = maxpool3d(conv1)\n",
    "\n",
    "\n",
    "    conv2 = tf.nn.relu(conv3d(conv1, weights['W_conv2']) + biases['b_conv2'])\n",
    "    conv2 = maxpool3d(conv2)\n",
    "\n",
    "    fc = tf.reshape(conv2,[-1, 54080])\n",
    "    fc = tf.nn.relu(tf.matmul(fc, weights['W_fc'])+biases['b_fc'])\n",
    "    fc = tf.nn.dropout(fc, keep_rate)\n",
    "\n",
    "    output = tf.matmul(fc, weights['out'])+biases['out']\n",
    "\n",
    "    return output"
   ]
  },
  {
   "cell_type": "markdown",
   "metadata": {
    "deletable": true,
    "editable": true
   },
   "source": [
    "Why 54080 magic number? To get this, I simply run the script once, and see what the error yells at me for the expected size multiple. This is certainly not the right way to go about it, but that's my 100% honest method, and my first time working in a 3D convnet. AFAIK, it's the padding that causes this to not be EXACTLY 50,000, (50 x 50 x 20 is the size of our actual input data, which is 50,000 total). \n",
    "\n",
    "Someone feel free to enlighten me how one could actually calculate this number beforehand. \n",
    "\n",
    "Now we're set to train the network. I am not going to ask the Kaggle online kernel to even bother building this computation graph, so I will comment out the line to actually run this. Just uncomment it locally and it will run. When running locally, make sure your training data is NOT the sample images, it should be the stage1 images. Your training file should be ~700mb with ~1400 total labeled samples."
   ]
  },
  {
   "cell_type": "code",
   "execution_count": 26,
   "metadata": {
    "ExecuteTime": {
     "end_time": "2017-03-22T15:13:36.726717",
     "start_time": "2017-03-22T15:13:36.493046"
    },
    "collapsed": false,
    "deletable": true,
    "editable": true
   },
   "outputs": [
    {
     "ename": "ValueError",
     "evalue": "Only call `softmax_cross_entropy_with_logits` with named arguments (labels=..., logits=..., ...)",
     "output_type": "error",
     "traceback": [
      "\u001b[0;31m---------------------------------------------------------------------------\u001b[0m",
      "\u001b[0;31mValueError\u001b[0m                                Traceback (most recent call last)",
      "\u001b[0;32m<ipython-input-26-524da4b97a0e>\u001b[0m in \u001b[0;36m<module>\u001b[0;34m()\u001b[0m\n\u001b[1;32m     46\u001b[0m \u001b[1;33m\u001b[0m\u001b[0m\n\u001b[1;32m     47\u001b[0m \u001b[1;31m# Run this locally:\u001b[0m\u001b[1;33m\u001b[0m\u001b[1;33m\u001b[0m\u001b[0m\n\u001b[0;32m---> 48\u001b[0;31m \u001b[0mtrain_neural_network\u001b[0m\u001b[1;33m(\u001b[0m\u001b[0mx\u001b[0m\u001b[1;33m)\u001b[0m\u001b[1;33m\u001b[0m\u001b[0m\n\u001b[0m",
      "\u001b[0;32m<ipython-input-26-524da4b97a0e>\u001b[0m in \u001b[0;36mtrain_neural_network\u001b[0;34m(x)\u001b[0m\n\u001b[1;32m      7\u001b[0m \u001b[1;32mdef\u001b[0m \u001b[0mtrain_neural_network\u001b[0m\u001b[1;33m(\u001b[0m\u001b[0mx\u001b[0m\u001b[1;33m)\u001b[0m\u001b[1;33m:\u001b[0m\u001b[1;33m\u001b[0m\u001b[0m\n\u001b[1;32m      8\u001b[0m     \u001b[0mprediction\u001b[0m \u001b[1;33m=\u001b[0m \u001b[0mconvolutional_neural_network\u001b[0m\u001b[1;33m(\u001b[0m\u001b[0mx\u001b[0m\u001b[1;33m)\u001b[0m\u001b[1;33m\u001b[0m\u001b[0m\n\u001b[0;32m----> 9\u001b[0;31m     \u001b[0mcost\u001b[0m \u001b[1;33m=\u001b[0m \u001b[0mtf\u001b[0m\u001b[1;33m.\u001b[0m\u001b[0mreduce_mean\u001b[0m\u001b[1;33m(\u001b[0m \u001b[0mtf\u001b[0m\u001b[1;33m.\u001b[0m\u001b[0mnn\u001b[0m\u001b[1;33m.\u001b[0m\u001b[0msoftmax_cross_entropy_with_logits\u001b[0m\u001b[1;33m(\u001b[0m\u001b[0mprediction\u001b[0m\u001b[1;33m,\u001b[0m \u001b[0my\u001b[0m\u001b[1;33m)\u001b[0m \u001b[1;33m)\u001b[0m\u001b[1;33m\u001b[0m\u001b[0m\n\u001b[0m\u001b[1;32m     10\u001b[0m     \u001b[0moptimizer\u001b[0m \u001b[1;33m=\u001b[0m \u001b[0mtf\u001b[0m\u001b[1;33m.\u001b[0m\u001b[0mtrain\u001b[0m\u001b[1;33m.\u001b[0m\u001b[0mAdamOptimizer\u001b[0m\u001b[1;33m(\u001b[0m\u001b[0mlearning_rate\u001b[0m\u001b[1;33m=\u001b[0m\u001b[1;36m1e-3\u001b[0m\u001b[1;33m)\u001b[0m\u001b[1;33m.\u001b[0m\u001b[0mminimize\u001b[0m\u001b[1;33m(\u001b[0m\u001b[0mcost\u001b[0m\u001b[1;33m)\u001b[0m\u001b[1;33m\u001b[0m\u001b[0m\n\u001b[1;32m     11\u001b[0m \u001b[1;33m\u001b[0m\u001b[0m\n",
      "\u001b[0;32mC:\\ProgramData\\Anaconda3\\lib\\site-packages\\tensorflow\\python\\ops\\nn_ops.py\u001b[0m in \u001b[0;36msoftmax_cross_entropy_with_logits\u001b[0;34m(_sentinel, labels, logits, dim, name)\u001b[0m\n\u001b[1;32m   1576\u001b[0m   \"\"\"\n\u001b[1;32m   1577\u001b[0m   _ensure_xent_args(\"softmax_cross_entropy_with_logits\", _sentinel,\n\u001b[0;32m-> 1578\u001b[0;31m                     labels, logits)\n\u001b[0m\u001b[1;32m   1579\u001b[0m \u001b[1;33m\u001b[0m\u001b[0m\n\u001b[1;32m   1580\u001b[0m   \u001b[1;31m# TODO(pcmurray) Raise an error when the labels do not sum to 1. Note: This\u001b[0m\u001b[1;33m\u001b[0m\u001b[1;33m\u001b[0m\u001b[0m\n",
      "\u001b[0;32mC:\\ProgramData\\Anaconda3\\lib\\site-packages\\tensorflow\\python\\ops\\nn_ops.py\u001b[0m in \u001b[0;36m_ensure_xent_args\u001b[0;34m(name, sentinel, labels, logits)\u001b[0m\n\u001b[1;32m   1531\u001b[0m   \u001b[1;32mif\u001b[0m \u001b[0msentinel\u001b[0m \u001b[1;32mis\u001b[0m \u001b[1;32mnot\u001b[0m \u001b[1;32mNone\u001b[0m\u001b[1;33m:\u001b[0m\u001b[1;33m\u001b[0m\u001b[0m\n\u001b[1;32m   1532\u001b[0m     raise ValueError(\"Only call `%s` with \"\n\u001b[0;32m-> 1533\u001b[0;31m                      \"named arguments (labels=..., logits=..., ...)\" % name)\n\u001b[0m\u001b[1;32m   1534\u001b[0m   \u001b[1;32mif\u001b[0m \u001b[0mlabels\u001b[0m \u001b[1;32mis\u001b[0m \u001b[1;32mNone\u001b[0m \u001b[1;32mor\u001b[0m \u001b[0mlogits\u001b[0m \u001b[1;32mis\u001b[0m \u001b[1;32mNone\u001b[0m\u001b[1;33m:\u001b[0m\u001b[1;33m\u001b[0m\u001b[0m\n\u001b[1;32m   1535\u001b[0m     \u001b[1;32mraise\u001b[0m \u001b[0mValueError\u001b[0m\u001b[1;33m(\u001b[0m\u001b[1;34m\"Both labels and logits must be provided.\"\u001b[0m\u001b[1;33m)\u001b[0m\u001b[1;33m\u001b[0m\u001b[0m\n",
      "\u001b[0;31mValueError\u001b[0m: Only call `softmax_cross_entropy_with_logits` with named arguments (labels=..., logits=..., ...)"
     ]
    }
   ],
   "source": [
    "# 没成功\n",
    "\n",
    "much_data = np.load('muchdata-50-50-20.npy')\n",
    "# If you are working with the basic sample data, use maybe 2 instead of 100 here... you don't have enough data to really do this\n",
    "train_data = much_data[:-4]\n",
    "validation_data = much_data[-4:]\n",
    "\n",
    "\n",
    "def train_neural_network(x):\n",
    "    prediction = convolutional_neural_network(x)\n",
    "    cost = tf.reduce_mean( tf.nn.softmax_cross_entropy_with_logits(prediction, y) )\n",
    "    optimizer = tf.train.AdamOptimizer(learning_rate=1e-3).minimize(cost)\n",
    "    \n",
    "    hm_epochs = 10\n",
    "    with tf.Session() as sess:\n",
    "        sess.run(tf.initialize_all_variables())\n",
    "        successful_runs = 0\n",
    "        total_runs = 0\n",
    "        \n",
    "        for epoch in range(hm_epochs):\n",
    "            epoch_loss = 0\n",
    "            for data in train_data:\n",
    "                total_runs += 1\n",
    "                try:\n",
    "                    X = data[0]\n",
    "                    Y = data[1]\n",
    "                    _, c = sess.run([optimizer, cost], feed_dict={x: X, y: Y})\n",
    "                    epoch_loss += c\n",
    "                    successful_runs += 1\n",
    "                except Exception as e:\n",
    "                    # I am passing for the sake of notebook space, but we are getting 1 shaping issue from one \n",
    "                    # input tensor. Not sure why, will have to look into it. Guessing it's\n",
    "                    # one of the depths that doesn't come to 20.\n",
    "                    pass\n",
    "                    #print(str(e))\n",
    "            \n",
    "            print('Epoch', epoch+1, 'completed out of',hm_epochs,'loss:',epoch_loss)\n",
    "\n",
    "            correct = tf.equal(tf.argmax(prediction, 1), tf.argmax(y, 1))\n",
    "            accuracy = tf.reduce_mean(tf.cast(correct, 'float'))\n",
    "\n",
    "            print('Accuracy:',accuracy.eval({x:[i[0] for i in validation_data], y:[i[1] for i in validation_data]}))\n",
    "            \n",
    "        print('Done. Finishing accuracy:')\n",
    "        print('Accuracy:',accuracy.eval({x:[i[0] for i in validation_data], y:[i[1] for i in validation_data]}))\n",
    "        \n",
    "        print('fitment percent:',successful_runs/total_runs)\n",
    "\n",
    "# Run this locally:\n",
    "train_neural_network(x)"
   ]
  },
  {
   "cell_type": "markdown",
   "metadata": {
    "deletable": true,
    "editable": true
   },
   "source": [
    "Example output that I got:\n",
    "\n",
    "    Epoch 1 completed out of 10 loss: 195148607547.0\n",
    "\n",
    "Accuracy: 0.63\n",
    "\n",
    "Epoch 2 completed out of 10 loss: 14236109414.9\n",
    "\n",
    "Accuracy: 0.6\n",
    "\n",
    "Epoch 3 completed out of 10 loss: 5744945978.94\n",
    "\n",
    "Accuracy: 0.7\n",
    "\n",
    "Epoch 4 completed out of 10 loss: 3268944715.44\n",
    "\n",
    "Accuracy: 0.6\n",
    "\n",
    "Epoch 5 completed out of 10 loss: 1916325681.66\n",
    "\n",
    "Accuracy: 0.6\n",
    "\n",
    "Epoch 6 completed out of 10 loss: 1014763813.3\n",
    "\n",
    "Accuracy: 0.46\n",
    "\n",
    "Epoch 7 completed out of 10 loss: 680146186.953\n",
    "\n",
    "Accuracy: 0.54\n",
    "\n",
    "Epoch 8 completed out of 10 loss: 289082075.259\n",
    "\n",
    "Accuracy: 0.62\n",
    "\n",
    "Epoch 9 completed out of 10 loss: 122785997.913\n",
    "\n",
    "Accuracy: 0.57\n",
    "\n",
    "Epoch 10 completed out of 10 loss: 96427552.5371\n",
    "\n",
    "Accuracy: 0.51\n",
    "\n",
    "Done. Finishing accuracy:\n",
    "\n",
    "Accuracy: 0.69\n",
    "\n",
    "fitment percent: 0.9992289899768697"
   ]
  },
  {
   "cell_type": "markdown",
   "metadata": {
    "deletable": true,
    "editable": true
   },
   "source": [
    "# Section 5: Concluding Remarks #\n",
    "\n",
    "So how did we do? Well, we overfit almost certainly. How about our accuracy? Due to the lower amount of data on Kaggle, I have no idea what number you're seeing, just know it's probably not all that great. Even if it was, what was the number to beat? Was it 50%, since it's either cancer or not? Not quite. The real number we need to beat is if our network was to always predict a single class. Let's see what the best score our classifer could get is if it just always picked the most common class:"
   ]
  },
  {
   "cell_type": "code",
   "execution_count": 27,
   "metadata": {
    "ExecuteTime": {
     "end_time": "2017-03-22T15:17:08.547906",
     "start_time": "2017-03-22T15:17:08.501759"
    },
    "collapsed": false,
    "deletable": true,
    "editable": true
   },
   "outputs": [
    {
     "data": {
      "text/plain": [
       "0    1035\n",
       "1     362\n",
       "Name: cancer, dtype: int64"
      ]
     },
     "execution_count": 27,
     "metadata": {},
     "output_type": "execute_result"
    }
   ],
   "source": [
    "labels_df.cancer.value_counts()"
   ]
  },
  {
   "cell_type": "markdown",
   "metadata": {
    "deletable": true,
    "editable": true
   },
   "source": [
    "So, actually, our dataset has 1035 non-cancer examples and 362 cancerous examples. Thus, an algorithm that always predicted no-cancer with our model would be ~ 74% accurate (1035/1397).\n",
    "\n",
    "We'd definitely want to confirm our testing set actually has this ratio before assuming anything. It might be the case our testing set has more cancerous examples, or maybe less, we really don't know. We can though:"
   ]
  },
  {
   "cell_type": "code",
   "execution_count": 28,
   "metadata": {
    "ExecuteTime": {
     "end_time": "2017-03-22T15:17:42.593500",
     "start_time": "2017-03-22T15:17:42.572446"
    },
    "collapsed": false,
    "deletable": true,
    "editable": true
   },
   "outputs": [
    {
     "data": {
      "text/plain": [
       "0    72\n",
       "1    28\n",
       "Name: cancer, dtype: int64"
      ]
     },
     "execution_count": 28,
     "metadata": {},
     "output_type": "execute_result"
    }
   ],
   "source": [
    "labels_df.ix[-100:].cancer.value_counts()"
   ]
  },
  {
   "cell_type": "markdown",
   "metadata": {
    "deletable": true,
    "editable": true
   },
   "source": [
    "In this case, it's pretty close. No cancer always would give us 72% accuracy. In our test, that's the real number to beat.\n",
    "\n",
    "All this said, this specific competition isn't actually just \"right\" or wrong. Your job is to predict % chance of cancer, it's not so binary."
   ]
  },
  {
   "cell_type": "markdown",
   "metadata": {
    "deletable": true,
    "editable": true
   },
   "source": [
    "## Now what? ##\n",
    "\n",
    "Well, likely the largest issue here is our size of data. If we're going to be successful with a neural network, we need more data. We can either hunt for more outside datasources, or we can engage in adding some noise to the data.\n",
    "\n",
    "It might also just simply be the case that a neural network isn't the best model of choice here. Neural networks are capable of amazing things, only when we have the datasets to support it. We might just simply not have enough data.\n",
    "\n",
    " 1. Create new data from the existing data by adding noise. There are\n",
    "    many ways to add \"noise\" to data. With pictures, we can do all sorts\n",
    "    of things. Overlaying other pictures on top, rotating, messing with\n",
    "    edges, adding various transforms...the list goes on and on. Before\n",
    "    just adding any noise, it would be wise to research what exactly\n",
    "    doctors do when analyzing CT scans for cancerous tumors. For\n",
    "    example, you can check out this tutorial:\n",
    "    [https://www.kaggle.com/c/data-science-bowl-2017/discussion/27922][1]\n",
    "    for how an actual doctor reads a CT scan. You wouldn't want to add\n",
    "    noise that conflicts here most likely.\n",
    " 2. Bring in more outside data. I'd start here:\n",
    "    [https://www.kaggle.com/c/data-science-bowl-2017/discussion/27666][2]\n",
    "    \"official external data\" thread.\n",
    " 3. Consider neural network variables, like layers, learning rate,\n",
    "    activation functions, optimizer...etc.\n",
    " 4. Consider other models. \n",
    " 5. Keep hacking away!\n",
    "\n",
    "  [1]: https://www.kaggle.com/c/data-science-bowl-2017/discussion/27922\n",
    "  [2]: https://www.kaggle.com/c/data-science-bowl-2017/discussion/27666"
   ]
  },
  {
   "cell_type": "code",
   "execution_count": null,
   "metadata": {
    "collapsed": true,
    "deletable": true,
    "editable": true
   },
   "outputs": [],
   "source": []
  }
 ],
 "metadata": {
  "kernelspec": {
   "display_name": "Python 3",
   "language": "python",
   "name": "python3"
  },
  "language_info": {
   "codemirror_mode": {
    "name": "ipython",
    "version": 3
   },
   "file_extension": ".py",
   "mimetype": "text/x-python",
   "name": "python",
   "nbconvert_exporter": "python",
   "pygments_lexer": "ipython3",
   "version": "3.5.2"
  }
 },
 "nbformat": 4,
 "nbformat_minor": 0
}
